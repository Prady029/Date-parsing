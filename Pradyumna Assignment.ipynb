{
 "cells": [
  {
   "cell_type": "markdown",
   "metadata": {},
   "source": [
    "# Lannet Internship Assignment - 2020"
   ]
  },
  {
   "cell_type": "markdown",
   "metadata": {},
   "source": [
    "> User can input any dataset and we have to detect what’s date, what’s character etc. Since no data is perfect, a very simple data cleaning code won’t be able to read most of the variables and will remove those variables by the time it comes to predictive modelling. In case of any questions, You can take basic assumptions if you want to, we want to see how innovative you think. We want to see your thinking abilities and how much big you can think from this given information."
   ]
  },
  {
   "cell_type": "markdown",
   "metadata": {},
   "source": [
    "> ### **Things to consider**\n",
    "    • Date column might have some invalid entries in them \n",
    "    • Date can be of different format throughout the column\n",
    "    • Code should be efficient and fast\n",
    "    • Make a dummy dataset by yourself to test out your logic\n",
    "    • Code should be well commented and easy to interpret\n",
    "    • Use google Colab\n",
    "    • Code should be robust enough to run on any dataset\n",
    "    • To test out the logic we will pass a random dataframe into your function"
   ]
  },
  {
   "cell_type": "markdown",
   "metadata": {},
   "source": [
    "## Assumptions\n",
    "- All these functions operate on pandas objects only,like pandas dataframe.\n",
    "- The main date formats that are to be considered - dd/mm/yyyy,dd/mm/yy,yyyy/mm/dd,dd month yyyy, month dd yyyy.\n",
    "- NO time objects will be entertained anywhere.\n",
    "- StackOverflow will be used extensively.\n",
    "- Timezones will be ignored completely."
   ]
  },
  {
   "cell_type": "markdown",
   "metadata": {},
   "source": [
    "> Libraries being used :\n",
    "- `import numpy as np`\n",
    "- `import pandas as pd`\n",
    "- `from itertools import combinations`"
   ]
  },
  {
   "cell_type": "code",
   "execution_count": 68,
   "metadata": {},
   "outputs": [],
   "source": [
    "import pandas as pd\n",
    "import numpy as np\n",
    "from itertools import combinations"
   ]
  },
  {
   "cell_type": "markdown",
   "metadata": {},
   "source": [
    "> Dummy Data Preparation "
   ]
  },
  {
   "cell_type": "code",
   "execution_count": 3,
   "metadata": {},
   "outputs": [],
   "source": [
    "dat1 = pd.read_csv('~/Downloads/energydata_complete.csv',parse_dates=[0])\n",
    "\n",
    "dat2=pd.read_csv('~/Downloads/amzn-anon-access-samples/amzn-anon-access-samples-history-2.0.csv',parse_dates=['REQUEST_DATE','AUTHORIZATION_DATE'])"
   ]
  },
  {
   "cell_type": "code",
   "execution_count": 4,
   "metadata": {},
   "outputs": [],
   "source": [
    "#dat21 = dat2.iloc[:,3:5]\n",
    "dat1['date'] = dat1['date'].dt.date\n",
    "dat2['REQUEST_DATE'] = dat2['REQUEST_DATE'].dt.date\n",
    "dat2['AUTHORIZATION_DATE']=pd.to_datetime(dat2['AUTHORIZATION_DATE'],errors='coerce').dt.date"
   ]
  },
  {
   "cell_type": "code",
   "execution_count": 44,
   "metadata": {},
   "outputs": [],
   "source": [
    "data = pd.concat([dat1['date'],dat2.iloc[:,3:5].head(dat1.shape[0] - 1)], axis = 1)\n",
    "\n",
    "data = data.astype('datetime64').dropna()"
   ]
  },
  {
   "cell_type": "code",
   "execution_count": 75,
   "metadata": {},
   "outputs": [],
   "source": [
    "data.to_csv('dummy_date_data')"
   ]
  },
  {
   "cell_type": "markdown",
   "metadata": {},
   "source": [
    "### 1.1 Write a function in python that identify which columns have date in them.\n",
    "> Assumption - Data has been cleaned and the date columns has been parsed correctly"
   ]
  },
  {
   "cell_type": "code",
   "execution_count": 48,
   "metadata": {},
   "outputs": [],
   "source": [
    "def date_cols(df):\n",
    "    return list(df.select_dtypes('datetime').columns)"
   ]
  },
  {
   "cell_type": "markdown",
   "metadata": {},
   "source": [
    "### 1.2 Using these date columns make new columns which are difference between these columns taking 2 at a time. (difference of days between dates).\n",
    "> For instance - Data set contains 4 date columns which are start date, end date, DOB and Date of promotion. Then you will form 6 new columns containing difference of these date by taking 2 date at a time. One of the new column would be DOB - end date. But the data can contain any number of date columns (dataset has n number of date columns).\n",
    "-------------------------------------------------------------------------------"
   ]
  },
  {
   "cell_type": "code",
   "execution_count": 67,
   "metadata": {},
   "outputs": [],
   "source": [
    "def col_diff(df):\n",
    "    dummy_df = pd.DataFrame()\n",
    "    date_columns = date_cols(df)\n",
    "    date_col_tups=list(combinations(date_columns, 2))\n",
    "    for date_col_tup in date_col_tups:\n",
    "        dummy_df[date_col_tup[0]+'-'+date_col_tup[1]] = (df[date_col_tup[0]] - df[date_col_tup[1]]).abs()  / np.timedelta64(1, 'D')\n",
    "    return dummy_df"
   ]
  },
  {
   "cell_type": "markdown",
   "metadata": {},
   "source": [
    "### 1.3 Drop all the original columns containing the date and just keep the newly computed columns\n",
    "-----"
   ]
  },
  {
   "cell_type": "code",
   "execution_count": 66,
   "metadata": {},
   "outputs": [],
   "source": [
    "def new_computed_df(df):\n",
    "    date_columns = date_cols(df)\n",
    "    dummy_df = col_diff(df)\n",
    "    dummy_df_2 = df.drop(date_columns,axis=1)\n",
    "    new_df = pd.concat([dummy_df_2,dummy_df],axis=1)\n",
    "    return new_df"
   ]
  },
  {
   "cell_type": "markdown",
   "metadata": {},
   "source": [
    "# Testing"
   ]
  },
  {
   "cell_type": "code",
   "execution_count": 69,
   "metadata": {},
   "outputs": [
    {
     "data": {
      "text/html": [
       "<div>\n",
       "<style scoped>\n",
       "    .dataframe tbody tr th:only-of-type {\n",
       "        vertical-align: middle;\n",
       "    }\n",
       "\n",
       "    .dataframe tbody tr th {\n",
       "        vertical-align: top;\n",
       "    }\n",
       "\n",
       "    .dataframe thead th {\n",
       "        text-align: right;\n",
       "    }\n",
       "</style>\n",
       "<table border=\"1\" class=\"dataframe\">\n",
       "  <thead>\n",
       "    <tr style=\"text-align: right;\">\n",
       "      <th></th>\n",
       "      <th>date</th>\n",
       "      <th>REQUEST_DATE</th>\n",
       "      <th>AUTHORIZATION_DATE</th>\n",
       "    </tr>\n",
       "  </thead>\n",
       "  <tbody>\n",
       "    <tr>\n",
       "      <th>0</th>\n",
       "      <td>2016-01-11</td>\n",
       "      <td>2005-03-25</td>\n",
       "      <td>2005-03-25</td>\n",
       "    </tr>\n",
       "    <tr>\n",
       "      <th>1</th>\n",
       "      <td>2016-01-11</td>\n",
       "      <td>2005-03-25</td>\n",
       "      <td>2005-03-25</td>\n",
       "    </tr>\n",
       "    <tr>\n",
       "      <th>2</th>\n",
       "      <td>2016-01-11</td>\n",
       "      <td>2005-04-04</td>\n",
       "      <td>2005-04-06</td>\n",
       "    </tr>\n",
       "    <tr>\n",
       "      <th>3</th>\n",
       "      <td>2016-01-11</td>\n",
       "      <td>2005-04-04</td>\n",
       "      <td>2005-04-06</td>\n",
       "    </tr>\n",
       "    <tr>\n",
       "      <th>4</th>\n",
       "      <td>2016-01-11</td>\n",
       "      <td>2005-04-04</td>\n",
       "      <td>2005-04-06</td>\n",
       "    </tr>\n",
       "  </tbody>\n",
       "</table>\n",
       "</div>"
      ],
      "text/plain": [
       "        date REQUEST_DATE AUTHORIZATION_DATE\n",
       "0 2016-01-11   2005-03-25         2005-03-25\n",
       "1 2016-01-11   2005-03-25         2005-03-25\n",
       "2 2016-01-11   2005-04-04         2005-04-06\n",
       "3 2016-01-11   2005-04-04         2005-04-06\n",
       "4 2016-01-11   2005-04-04         2005-04-06"
      ]
     },
     "execution_count": 69,
     "metadata": {},
     "output_type": "execute_result"
    }
   ],
   "source": [
    "data.head()"
   ]
  },
  {
   "cell_type": "code",
   "execution_count": 70,
   "metadata": {},
   "outputs": [
    {
     "data": {
      "text/plain": [
       "['date', 'REQUEST_DATE', 'AUTHORIZATION_DATE']"
      ]
     },
     "execution_count": 70,
     "metadata": {},
     "output_type": "execute_result"
    }
   ],
   "source": [
    "date_cols(data)"
   ]
  },
  {
   "cell_type": "code",
   "execution_count": 72,
   "metadata": {},
   "outputs": [
    {
     "data": {
      "text/html": [
       "<div>\n",
       "<style scoped>\n",
       "    .dataframe tbody tr th:only-of-type {\n",
       "        vertical-align: middle;\n",
       "    }\n",
       "\n",
       "    .dataframe tbody tr th {\n",
       "        vertical-align: top;\n",
       "    }\n",
       "\n",
       "    .dataframe thead th {\n",
       "        text-align: right;\n",
       "    }\n",
       "</style>\n",
       "<table border=\"1\" class=\"dataframe\">\n",
       "  <thead>\n",
       "    <tr style=\"text-align: right;\">\n",
       "      <th></th>\n",
       "      <th>date-REQUEST_DATE</th>\n",
       "      <th>date-AUTHORIZATION_DATE</th>\n",
       "      <th>REQUEST_DATE-AUTHORIZATION_DATE</th>\n",
       "    </tr>\n",
       "  </thead>\n",
       "  <tbody>\n",
       "    <tr>\n",
       "      <th>0</th>\n",
       "      <td>3944.0</td>\n",
       "      <td>3944.0</td>\n",
       "      <td>0.0</td>\n",
       "    </tr>\n",
       "    <tr>\n",
       "      <th>1</th>\n",
       "      <td>3944.0</td>\n",
       "      <td>3944.0</td>\n",
       "      <td>0.0</td>\n",
       "    </tr>\n",
       "    <tr>\n",
       "      <th>2</th>\n",
       "      <td>3934.0</td>\n",
       "      <td>3932.0</td>\n",
       "      <td>2.0</td>\n",
       "    </tr>\n",
       "    <tr>\n",
       "      <th>3</th>\n",
       "      <td>3934.0</td>\n",
       "      <td>3932.0</td>\n",
       "      <td>2.0</td>\n",
       "    </tr>\n",
       "    <tr>\n",
       "      <th>4</th>\n",
       "      <td>3934.0</td>\n",
       "      <td>3932.0</td>\n",
       "      <td>2.0</td>\n",
       "    </tr>\n",
       "  </tbody>\n",
       "</table>\n",
       "</div>"
      ],
      "text/plain": [
       "   date-REQUEST_DATE  date-AUTHORIZATION_DATE  REQUEST_DATE-AUTHORIZATION_DATE\n",
       "0             3944.0                   3944.0                              0.0\n",
       "1             3944.0                   3944.0                              0.0\n",
       "2             3934.0                   3932.0                              2.0\n",
       "3             3934.0                   3932.0                              2.0\n",
       "4             3934.0                   3932.0                              2.0"
      ]
     },
     "execution_count": 72,
     "metadata": {},
     "output_type": "execute_result"
    }
   ],
   "source": [
    "col_diff(data).head()"
   ]
  },
  {
   "cell_type": "code",
   "execution_count": 74,
   "metadata": {},
   "outputs": [
    {
     "data": {
      "text/html": [
       "<div>\n",
       "<style scoped>\n",
       "    .dataframe tbody tr th:only-of-type {\n",
       "        vertical-align: middle;\n",
       "    }\n",
       "\n",
       "    .dataframe tbody tr th {\n",
       "        vertical-align: top;\n",
       "    }\n",
       "\n",
       "    .dataframe thead th {\n",
       "        text-align: right;\n",
       "    }\n",
       "</style>\n",
       "<table border=\"1\" class=\"dataframe\">\n",
       "  <thead>\n",
       "    <tr style=\"text-align: right;\">\n",
       "      <th></th>\n",
       "      <th>date-REQUEST_DATE</th>\n",
       "      <th>date-AUTHORIZATION_DATE</th>\n",
       "      <th>REQUEST_DATE-AUTHORIZATION_DATE</th>\n",
       "    </tr>\n",
       "  </thead>\n",
       "  <tbody>\n",
       "    <tr>\n",
       "      <th>0</th>\n",
       "      <td>3944.0</td>\n",
       "      <td>3944.0</td>\n",
       "      <td>0.0</td>\n",
       "    </tr>\n",
       "    <tr>\n",
       "      <th>1</th>\n",
       "      <td>3944.0</td>\n",
       "      <td>3944.0</td>\n",
       "      <td>0.0</td>\n",
       "    </tr>\n",
       "    <tr>\n",
       "      <th>2</th>\n",
       "      <td>3934.0</td>\n",
       "      <td>3932.0</td>\n",
       "      <td>2.0</td>\n",
       "    </tr>\n",
       "    <tr>\n",
       "      <th>3</th>\n",
       "      <td>3934.0</td>\n",
       "      <td>3932.0</td>\n",
       "      <td>2.0</td>\n",
       "    </tr>\n",
       "    <tr>\n",
       "      <th>4</th>\n",
       "      <td>3934.0</td>\n",
       "      <td>3932.0</td>\n",
       "      <td>2.0</td>\n",
       "    </tr>\n",
       "  </tbody>\n",
       "</table>\n",
       "</div>"
      ],
      "text/plain": [
       "   date-REQUEST_DATE  date-AUTHORIZATION_DATE  REQUEST_DATE-AUTHORIZATION_DATE\n",
       "0             3944.0                   3944.0                              0.0\n",
       "1             3944.0                   3944.0                              0.0\n",
       "2             3934.0                   3932.0                              2.0\n",
       "3             3934.0                   3932.0                              2.0\n",
       "4             3934.0                   3932.0                              2.0"
      ]
     },
     "execution_count": 74,
     "metadata": {},
     "output_type": "execute_result"
    }
   ],
   "source": [
    "new_computed_df(data).head()"
   ]
  },
  {
   "cell_type": "code",
   "execution_count": null,
   "metadata": {},
   "outputs": [],
   "source": []
  }
 ],
 "metadata": {
  "kernelspec": {
   "display_name": "Python 3",
   "language": "python",
   "name": "python3"
  },
  "language_info": {
   "codemirror_mode": {
    "name": "ipython",
    "version": 3
   },
   "file_extension": ".py",
   "mimetype": "text/x-python",
   "name": "python",
   "nbconvert_exporter": "python",
   "pygments_lexer": "ipython3",
   "version": "3.8.3"
  }
 },
 "nbformat": 4,
 "nbformat_minor": 4
}
